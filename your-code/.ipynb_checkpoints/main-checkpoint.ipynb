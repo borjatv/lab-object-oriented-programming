{
 "cells": [
  {
   "cell_type": "markdown",
   "metadata": {},
   "source": [
    "# Before your start:\n",
    "- Read the README.md file\n",
    "- Comment as much as you can and use the resources in the README.md file\n",
    "- Happy learning!"
   ]
  },
  {
   "cell_type": "markdown",
   "metadata": {},
   "source": [
    "# Challenge 1 - Matrix Functions\n",
    "\n",
    "#### We would like to create our own matrix. To make life simple for us, we can represent matrices as a list of lists. For the sake of simplicity, we will assume that the maximum number of dimensions a matrix will have is 2.\n",
    "\n",
    "The most basic thing we would like to do with two matrices is to add them together. To add two matrices, we must perform a number of checks. The first check we would like to perform is whether the matrix is two dimesional. This is because we want to limit ourselves to two dimensional matrices to simplify our problem. In the cell below write a function that checks is a matrix is two dimesional. "
   ]
  },
  {
   "cell_type": "code",
   "execution_count": 77,
   "metadata": {},
   "outputs": [],
   "source": [
    "def twodim(mat):\n",
    "    # This function takes a list of lists and checks that it is of depth 2. \n",
    "    # If the depth is not 2, either return false or return informative errors that let the user know the depth of the list.\n",
    "    # Input: nested list\n",
    "    # Output: Boolean (or error)\n",
    "    # Sample Input: [[1,2,3], [4,5,6]]\n",
    "    # Sample Output: True\n",
    "    \n",
    "    # Your Code Here:\n",
    "\n",
    "    # Dejo el enfoque que le había dado yo, considerando que todas las listas sólo pueden contener integers:\n",
    "\n",
    "    if all([isinstance(i, int) for i in mat]) is True:\n",
    "        print('Your list only has 1 level')\n",
    "        return False\n",
    "    elif all([isinstance(x, int) for lev1 in mat for x in lev1]) is True:\n",
    "        print('Your list has 2 levels')\n",
    "        return True\n",
    "    else:\n",
    "        print('Your list has more than 2 levels')\n",
    "        return False\n",
    "\n",
    "                \n",
    "        "
   ]
  },
  {
   "cell_type": "code",
   "execution_count": 78,
   "metadata": {},
   "outputs": [
    {
     "name": "stdout",
     "output_type": "stream",
     "text": [
      "Your list has 2 levels\n",
      "True\n",
      "Your list only has 1 level\n",
      "False\n",
      "Your list has more than 2 levels\n",
      "False\n"
     ]
    }
   ],
   "source": [
    "#twodim([[1,2], [1,2,3],[1,2,3]])\n",
    "list1 = [[1,2], [1,2,3],[1,2,3]]\n",
    "list2 = [1, 2]\n",
    "list3 = [[[1,2], [1,2,3],[1,2,3]], [[1,2], [1,2,3]]]\n",
    "\n",
    "type(list)\n",
    "\n",
    "print(twodim(list1))\n",
    "print(twodim(list2))\n",
    "print(twodim(list3))\n",
    "\n"
   ]
  },
  {
   "cell_type": "markdown",
   "metadata": {},
   "source": [
    "# Bonus Challenge 1 - Write the function recursively\n",
    "\n",
    "Rewrite the `twodim` function using recursion. \n",
    "Read more about recursion [here](https://www.cs.utah.edu/~germain/PPS/Topics/recursion.html)\n",
    "\n",
    "Hint: stop your recursion when there are no more lists, this wil be the depth of your matrix. Check that this depth is equal to 2.\n",
    "Second Hint: At every level of the recursion, use the filter function to keep only the members of the list that are lists."
   ]
  },
  {
   "cell_type": "code",
   "execution_count": 83,
   "metadata": {},
   "outputs": [
    {
     "name": "stdout",
     "output_type": "stream",
     "text": [
      "2\n",
      "1\n",
      "3\n"
     ]
    }
   ],
   "source": [
    "def twodimrecursive(m):\n",
    "    if all([isinstance(i, int) for i in m]):\n",
    "        return 1\n",
    "    else:\n",
    "        return 1 + max([dimension(ele) for ele in m])\n",
    "\n",
    "\n",
    "    \n",
    "print(dimension(list1))\n",
    "print(dimension(list2))\n",
    "print(dimension(list3))"
   ]
  },
  {
   "cell_type": "code",
   "execution_count": 84,
   "metadata": {},
   "outputs": [
    {
     "data": {
      "text/plain": [
       "2"
      ]
     },
     "execution_count": 84,
     "metadata": {},
     "output_type": "execute_result"
    }
   ],
   "source": [
    "twodimrecursive([[1,2,3],[1,2]])"
   ]
  },
  {
   "cell_type": "markdown",
   "metadata": {},
   "source": [
    "#### Next, we will write a function that checks for the number of rows and columns of a matrix. \n",
    "\n",
    "Recall that the outer list will tell us the number of rows and the inner lists will tell us the number of columns. Make sure that all inner lists are of the same length."
   ]
  },
  {
   "cell_type": "code",
   "execution_count": 85,
   "metadata": {},
   "outputs": [],
   "source": [
    "def rowcolumn(mat):\n",
    "    # This function takes a list of lists and returns the size of the rows and the columns \n",
    "    # Input: list of lists\n",
    "    # Output: Tuple of rows and columns\n",
    "    #\n",
    "    # Sample input: [[1,2,3],[4,5,6]]\n",
    "    # Sample Output: (2, 3)\n",
    "    \n",
    "    # Your code here:\n",
    "    \n",
    "    x = 0\n",
    "    b = 0\n",
    "    for a in mat:\n",
    "        if len(mat[0]) != len(a):\n",
    "            raise ValueError('not all lists have same length!')\n",
    "        x += 1\n",
    "        b = len(a)\n",
    "        result = [x, b]\n",
    " \n",
    "    return tuple(result)"
   ]
  },
  {
   "cell_type": "code",
   "execution_count": 86,
   "metadata": {},
   "outputs": [
    {
     "data": {
      "text/plain": [
       "(3, 4)"
      ]
     },
     "execution_count": 86,
     "metadata": {},
     "output_type": "execute_result"
    }
   ],
   "source": [
    "rowcolumn([[1,2,3,4], [1,2,3,4],[1,2,3,4]])"
   ]
  },
  {
   "cell_type": "markdown",
   "metadata": {},
   "source": [
    "#### Our next step is to write a function that compares two matrices and tells us whether they are of equal size.\n",
    "\n",
    "In this function we will check whether the number of rows and number of columns is the same."
   ]
  },
  {
   "cell_type": "code",
   "execution_count": 87,
   "metadata": {},
   "outputs": [],
   "source": [
    "def compare(mat1, mat2):\n",
    "    # This function takes a two lists of lists and checks whether they have the same number of rows and columns\n",
    "    # Input: two list of lists\n",
    "    # Output: True or False\n",
    "    #\n",
    "    # Sample input: [[1,2,3],[4,5,6]], [[7,8,9], [10,11,12]]\n",
    "    # Sample Output: True\n",
    "    \n",
    "    # Your code here:\n",
    "    x1 = 0\n",
    "    b1 = 0\n",
    "    for a1 in mat1:\n",
    "        if len(mat1[0]) != len(a1):\n",
    "            raise ValueError('not all lists have same length!')\n",
    "        x1 += 1\n",
    "        b1 = len(a1)\n",
    "        result1 = [x1, b1]\n",
    "        \n",
    "    x2 = 0\n",
    "    b2 = 0\n",
    "    for a2 in mat2:\n",
    "        if len(mat2[0]) != len(a2):\n",
    "            raise ValueError('not all lists have same length!')\n",
    "        x2 += 1\n",
    "        b2 = len(a2)\n",
    "        result2 = [x2, b2]\n",
    "        \n",
    "    if result1 == result2:\n",
    "        return True\n",
    "    else:\n",
    "        return False"
   ]
  },
  {
   "cell_type": "code",
   "execution_count": 88,
   "metadata": {},
   "outputs": [
    {
     "data": {
      "text/plain": [
       "True"
      ]
     },
     "execution_count": 88,
     "metadata": {},
     "output_type": "execute_result"
    }
   ],
   "source": [
    "compare([[1,2,3],[4,5,6]], [[7,8,9], [10,11,12]])"
   ]
  },
  {
   "cell_type": "markdown",
   "metadata": {},
   "source": [
    "#### Now that we have all the tools we need, write a function that adds two matrices together. \n",
    "\n",
    "Remember that a matrix is represented as a list of lists. Therefore, we must add each element in the list. The plus symbol is used for concatenating two lists and not for adding every element in two lists."
   ]
  },
  {
   "cell_type": "code",
   "execution_count": 91,
   "metadata": {},
   "outputs": [
    {
     "data": {
      "text/plain": [
       "[[8, 10, 12], [14, 16, 18]]"
      ]
     },
     "execution_count": 91,
     "metadata": {},
     "output_type": "execute_result"
    }
   ],
   "source": [
    "# No necesario corregir, son apuntes de cómo pensé el proceso\n",
    "# ¿Qué necesito hacer realmente? addition([[1,2,3],[4,5,6]], [[7,8,9], [10,11,12]])\n",
    "m1 = [[1,2,3], [4,5,6]]\n",
    "m2 = [[7,8,9], [10,11,12]]\n",
    "\n",
    "[[m1[0][0] + m2[0][0], m1[0][1] + m2[0][1], m1[0][2] + m2[0][2]], [m1[1][0] + m2[1][0], m1[1][1] + m2[1][1], m1[1][2] + m2[1][2]]]"
   ]
  },
  {
   "cell_type": "code",
   "execution_count": 89,
   "metadata": {},
   "outputs": [],
   "source": [
    "def addition(mat1, mat2):\n",
    "    # This function takes a two lists of lists and adds each cell together\n",
    "    # Input: two list of lists\n",
    "    # Output: one summed list of lists\n",
    "    #\n",
    "    # Sample input: [[1,2,3],[4,5,6]], [[7,8,9], [10,11,12]]\n",
    "    # Sample Output: [[8,10,12],[14,16,18]]\n",
    "    \n",
    "    # Your code here:\n",
    "    list1 = []\n",
    "    if compare(mat1, mat2) == True:\n",
    "        for a in range(0,len(mat1)):\n",
    "            # Creamos la lista, que la añadirá 2 veces\n",
    "            list2 = []\n",
    "            for b in range(0,len(mat1[a])):\n",
    "                # Sumamos las matrices\n",
    "                list2.append(mat1[a][b] + mat2[a][b])\n",
    "            # Añadimos la lista dentro del primer bucle, es decir, la añadirá 2 veces\n",
    "            list1.append(list2)\n",
    "        return list1        \n",
    "    \n",
    "    else:\n",
    "        print('Matrices do not have the same dimension, thus they cannot be sumed')"
   ]
  },
  {
   "cell_type": "code",
   "execution_count": 90,
   "metadata": {},
   "outputs": [
    {
     "data": {
      "text/plain": [
       "[[8, 10, 12], [14, 16, 18]]"
      ]
     },
     "execution_count": 90,
     "metadata": {},
     "output_type": "execute_result"
    }
   ],
   "source": [
    "addition([[1,2,3],[4,5,6]], [[7,8,9], [10,11,12]])"
   ]
  },
  {
   "cell_type": "markdown",
   "metadata": {},
   "source": [
    "# Challenge 2 - Creating the Class\n",
    "\n",
    "In the cell below, you will be creating the class Matrix2D. Use the functions you have written above and tweak them according to the instructions in the comments. You got this!"
   ]
  },
  {
   "cell_type": "code",
   "execution_count": 108,
   "metadata": {},
   "outputs": [],
   "source": [
    "class Matrix2D:\n",
    "    # First, we will write the __init__ function. \n",
    "    # In this function, we will initialize rows and the columns using the matrix that we have passed to the class.\n",
    "    \n",
    "    def __init__(self, mat):\n",
    "        # Assign mat to self.mat\n",
    "        # Assign rows and cols to self.rows and self.cols\n",
    "        # To find the rows and the cols, use the rowcolumn function and pass self.mat to the function.\n",
    "        # Since the rowcolumn function is now a member of the class, make sure to refer to the function as self.rowcolumn\n",
    "        \n",
    "        # Your code here:\n",
    "        self.mat = mat\n",
    "        #self.rows = rowcolumn(mat)[0]\n",
    "        #self.cols = rowcolumn(mat)[1]\n",
    "        \n",
    "    \n",
    "    \n",
    "    # Insert the twodim function here.\n",
    "    # The only change you need to make is that now we are passing self and mat to the function (make sure self is first).\n",
    "    \n",
    "    # Your code here:\n",
    "    \n",
    "    # No le he pasado mat como argumento porque puedo llamarla con self.mat:\n",
    "    def twodim(self):\n",
    "        if all([isinstance(i, int) for i in self.mat]) is True:\n",
    "            print('Your list only has 1 level')\n",
    "            return False\n",
    "        elif all([isinstance(x, int) for lev1 in self.mat for x in lev1]) is True:\n",
    "            print('Your list has 2 levels')\n",
    "            return True\n",
    "        else:\n",
    "            print('Your list has more than 2 levels')\n",
    "            return False\n",
    "\n",
    "    \n",
    "    # Insert the rowcolumn function here.\n",
    "    # The changes you need to make: \n",
    "    # 1. The function now takes self and mat as arguments (make sure to pass self first).\n",
    "    # 2. Any reference to twodim will be changed to self.twodim since this function is a member of the class and takes self \n",
    "    \n",
    "    # Your code here:\n",
    "    \n",
    "    # No le he pasado mat como argumento porque puedo llamarla con self.mat:\n",
    "    def rowcolumn(self):\n",
    "        x = 0\n",
    "        b = 0\n",
    "        for a in self.mat:\n",
    "            if len(self.mat[0]) != len(a):\n",
    "                raise ValueError('not all lists have same length!')\n",
    "            x += 1\n",
    "            b = len(a)\n",
    "            result = [x, b]\n",
    " \n",
    "        return tuple(result)\n",
    "    \n",
    "    \n",
    "    # Insert the compare function here\n",
    "    # Add self as the first argument passed to the function\n",
    "    \n",
    "    # Your code here:\n",
    "    def compare(self, newmat):\n",
    "        \"\"\"Esta función compara la matriz self.mat con otra que se haya dado como input: newmat\"\"\"\n",
    "        x1 = 0\n",
    "        b1 = 0\n",
    "        for a1 in self.mat:\n",
    "            if len(self.mat[0]) != len(a1):\n",
    "                raise ValueError('not all lists have same length!')\n",
    "            x1 += 1\n",
    "            b1 = len(a1)\n",
    "            result1 = [x1, b1]\n",
    "            \n",
    "        x2 = 0\n",
    "        b2 = 0\n",
    "        for a2 in newmat:\n",
    "            if len(newmat[0]) != len(a2):\n",
    "                raise ValueError('not all lists have same length!')\n",
    "            x2 += 1\n",
    "            b2 = len(a2)\n",
    "            result2 = [x2, b2]\n",
    "            \n",
    "        if result1 == result2:\n",
    "            return True\n",
    "        else:\n",
    "            return False\n",
    "    \n",
    "    # Insert the addition function here\n",
    "    # This function now takes self and matrix (another matrix of the Matrix2D class)\n",
    "    # Change the compare function to self.compare \n",
    "    # Change any reference to mat1 and mat2 to self.mat and matrix.mat respectively\n",
    "    # Return your result as a Matrix2D(result). This will ensure that we return a new matrix and not a list of lists.\n",
    "    \n",
    "    # Your code here:\n",
    "    def addition(self, matrix):\n",
    "        list1 = []\n",
    "        if self.compare(matrix) == True:\n",
    "            for a in range(0,len(self.mat)):\n",
    "                # Creamos la lista, que la añadirá 2 veces\n",
    "                list2 = []\n",
    "                for b in range(0,len(self.mat[a])):\n",
    "                    # Sumamos las matrices\n",
    "                    list2.append(self.mat[a][b] + matrix[a][b])\n",
    "                # Añadimos la lista dentro del primer bucle, es decir, la añadirá 2 veces\n",
    "                list1.append(list2)\n",
    "            # Añado este print para ver el resultado, ya que Matrix2D no lo imprime\n",
    "            print(list1)\n",
    "            return Matrix2D(list1)\n",
    "        \n",
    "        else:\n",
    "            print('Matrices do not have the same dimension, thus they cannot be sumed')\n",
    "        \n"
   ]
  },
  {
   "cell_type": "code",
   "execution_count": 93,
   "metadata": {},
   "outputs": [
    {
     "data": {
      "text/plain": [
       "(3, 4)"
      ]
     },
     "execution_count": 93,
     "metadata": {},
     "output_type": "execute_result"
    }
   ],
   "source": [
    "a = Matrix2D([[1,3,9,20],[1,4,12,21],[2,3,11,25]])\n",
    "a.rowcolumn()"
   ]
  },
  {
   "cell_type": "code",
   "execution_count": 94,
   "metadata": {},
   "outputs": [
    {
     "data": {
      "text/plain": [
       "True"
      ]
     },
     "execution_count": 94,
     "metadata": {},
     "output_type": "execute_result"
    }
   ],
   "source": [
    "b = [[1,3,9,0],[1,0,2,28],[6,1,90,125]]\n",
    "a.compare(b)"
   ]
  },
  {
   "cell_type": "code",
   "execution_count": 105,
   "metadata": {},
   "outputs": [
    {
     "data": {
      "text/plain": [
       "<__main__.Matrix2D at 0x7fee78048dc0>"
      ]
     },
     "metadata": {},
     "output_type": "display_data"
    }
   ],
   "source": [
    "(Matrix2D([[1,3,9,200],[10,4,12,21],[2,3,11,25]]).addition(b))"
   ]
  },
  {
   "cell_type": "code",
   "execution_count": 114,
   "metadata": {},
   "outputs": [
    {
     "name": "stdout",
     "output_type": "stream",
     "text": [
      "[[8, 10, 12], [14, 16, 18]]\n"
     ]
    },
    {
     "data": {
      "text/plain": [
       "<__main__.Matrix2D at 0x7fee78020a60>"
      ]
     },
     "execution_count": 114,
     "metadata": {},
     "output_type": "execute_result"
    }
   ],
   "source": [
    "# Como puse de input en la función una lista de listas normal, para ejecutar tendría que hacerlo así.\n",
    "\n",
    "# Lo hice así porque si no mi función 'addition' no funcionaría, ya que no es iterable\n",
    "\n",
    "Matrix2D([[1,2,3],[4,5,6]]).addition([[7,8,9],[10,11,12]])\n",
    "\n",
    "# En lugar de hacerlo así, como propone el ejercicio, metiendo una instancia de la clase matriz como input\n",
    "\n",
    "# Matrix2D([[1,2,3],[4,5,6]]).addition(Matrix2D([[7,8,9],[10,11,12]])).mat\n"
   ]
  },
  {
   "cell_type": "markdown",
   "metadata": {},
   "source": [
    "# Bonus Challenge 2 - Transpose Function\n",
    "\n",
    "#### Write a function that transposes the matrix and add it to your class.\n",
    "\n",
    "You can read more about the transpose of a matrix [here](https://en.wikipedia.org/wiki/Transpose).\n",
    "\n",
    "Hint: Use the zip function. Read about it [here](https://docs.python.org/3.3/library/functions.html#zip)\n",
    "\n",
    "Second Hint: Read about the asterisk in Python [here](https://docs.python.org/3/reference/expressions.html#expression-lists)"
   ]
  },
  {
   "cell_type": "code",
   "execution_count": 22,
   "metadata": {
    "collapsed": true
   },
   "outputs": [],
   "source": [
    "def transpose(mat):\n",
    "    # This function takes a list of lists and returns a transposed list of lists.\n",
    "    # Input: list of lists\n",
    "    # Output: list of lists\n",
    "    \n",
    "    # Sample Input: [[1,2,3],[4,5,6]]\n",
    "    # Sample Output: [[1,4], [2,5], [3,6]]\n",
    "    \n",
    "    # Your code here:\n",
    "    "
   ]
  },
  {
   "cell_type": "code",
   "execution_count": 23,
   "metadata": {},
   "outputs": [
    {
     "data": {
      "text/plain": [
       "[[1, 4], [2, 5], [3, 6]]"
      ]
     },
     "execution_count": 23,
     "metadata": {},
     "output_type": "execute_result"
    }
   ],
   "source": [
    "transpose([[1,2,3],[4,5,6]])"
   ]
  },
  {
   "cell_type": "code",
   "execution_count": 74,
   "metadata": {},
   "outputs": [
    {
     "data": {
      "text/plain": [
       "[([1, 2, 3],), ([4, 5, 6],)]"
      ]
     },
     "execution_count": 74,
     "metadata": {},
     "output_type": "execute_result"
    }
   ],
   "source": [
    "list(zip([[1,2,3],[4,5,6]]))"
   ]
  }
 ],
 "metadata": {
  "kernelspec": {
   "display_name": "Python 3",
   "language": "python",
   "name": "python3"
  },
  "language_info": {
   "codemirror_mode": {
    "name": "ipython",
    "version": 3
   },
   "file_extension": ".py",
   "mimetype": "text/x-python",
   "name": "python",
   "nbconvert_exporter": "python",
   "pygments_lexer": "ipython3",
   "version": "3.8.5"
  },
  "toc": {
   "base_numbering": 1,
   "nav_menu": {},
   "number_sections": true,
   "sideBar": true,
   "skip_h1_title": false,
   "title_cell": "Table of Contents",
   "title_sidebar": "Contents",
   "toc_cell": false,
   "toc_position": {},
   "toc_section_display": true,
   "toc_window_display": false
  },
  "varInspector": {
   "cols": {
    "lenName": 16,
    "lenType": 16,
    "lenVar": 40
   },
   "kernels_config": {
    "python": {
     "delete_cmd_postfix": "",
     "delete_cmd_prefix": "del ",
     "library": "var_list.py",
     "varRefreshCmd": "print(var_dic_list())"
    },
    "r": {
     "delete_cmd_postfix": ") ",
     "delete_cmd_prefix": "rm(",
     "library": "var_list.r",
     "varRefreshCmd": "cat(var_dic_list()) "
    }
   },
   "types_to_exclude": [
    "module",
    "function",
    "builtin_function_or_method",
    "instance",
    "_Feature"
   ],
   "window_display": false
  }
 },
 "nbformat": 4,
 "nbformat_minor": 2
}
